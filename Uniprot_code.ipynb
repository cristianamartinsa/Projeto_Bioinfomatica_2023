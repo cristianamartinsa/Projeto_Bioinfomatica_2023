{
 "cells": [
  {
   "cell_type": "markdown",
   "id": "ad0737ae-72a6-43f5-8e52-5d3a6f70829c",
   "metadata": {},
   "source": [
    "# Uniprot Code"
   ]
  },
  {
   "cell_type": "markdown",
   "id": "c945d168-64c2-4fd2-96f0-8f85ee571fde",
   "metadata": {},
   "source": [
    "Installation"
   ]
  },
  {
   "cell_type": "code",
   "execution_count": 1,
   "id": "cc9cf2ea-76bb-49d5-8e35-b8e4df245a3a",
   "metadata": {
    "collapsed": true,
    "jupyter": {
     "outputs_hidden": true
    },
    "tags": []
   },
   "outputs": [
    {
     "name": "stdout",
     "output_type": "stream",
     "text": [
      "Collecting biopython\n",
      "  Downloading biopython-1.80-cp39-cp39-win_amd64.whl (2.7 MB)\n",
      "     ---------------------------------------- 2.7/2.7 MB 8.7 MB/s eta 0:00:00\n",
      "Requirement already satisfied: numpy in c:\\users\\cristiana\\.anaconda\\lib\\site-packages (from biopython) (1.21.5)\n",
      "Installing collected packages: biopython\n",
      "Successfully installed biopython-1.80\n",
      "Note: you may need to restart the kernel to use updated packages.\n"
     ]
    },
    {
     "name": "stderr",
     "output_type": "stream",
     "text": [
      "WARNING: Ignoring invalid distribution -atplotlib (c:\\users\\cristiana\\.anaconda\\lib\\site-packages)\n",
      "WARNING: Ignoring invalid distribution -atplotlib (c:\\users\\cristiana\\.anaconda\\lib\\site-packages)\n",
      "WARNING: Ignoring invalid distribution -atplotlib (c:\\users\\cristiana\\.anaconda\\lib\\site-packages)\n",
      "WARNING: Ignoring invalid distribution -atplotlib (c:\\users\\cristiana\\.anaconda\\lib\\site-packages)\n",
      "WARNING: Ignoring invalid distribution -atplotlib (c:\\users\\cristiana\\.anaconda\\lib\\site-packages)\n",
      "WARNING: Ignoring invalid distribution -atplotlib (c:\\users\\cristiana\\.anaconda\\lib\\site-packages)\n",
      "WARNING: Ignoring invalid distribution -atplotlib (c:\\users\\cristiana\\.anaconda\\lib\\site-packages)\n"
     ]
    }
   ],
   "source": [
    "#pip install biopython"
   ]
  },
  {
   "cell_type": "code",
   "execution_count": null,
   "id": "b88796bd-35a0-4877-ac00-e252df56861f",
   "metadata": {},
   "outputs": [],
   "source": [
    "from Bio import ExPASy\n",
    "import Bio.SwissProt as sp\n",
    "\n",
    "while True:\n",
    "    try:\n",
    "        x = input(\"Which innate immune receptor are you looking for?\")\n",
    "        recept = [\"TLR1\", \"TLR2\", \"TLR3\", \"TLR4\", \"TLR5\", \"TLR6\", \"TLR7\", \"TLR8\", \"TLR9\", \"TLR10\", \"CIITA\", \"NAIP\", \"NLRC4\", \"NOD1\", \"NOD2\", \"NLRC3\", \"NLRC5\", \"NLRX1\", \n",
    "                 \"NLRP1\", \"NLRP2\", \"NLRP3\", \"NLRP4\", \"NLRP5\", \"NLRP6\", \"NLRP7\", \"NLRP8\", \"NLRP9\", \"NLRP10\", \"NLRP11\", \"NLRP12\", \"NLRP13\", \"NLRP14\", \"HNP1\", \"HNP2\", \n",
    "                 \"HNP3\", \"HNP4\", \"HD5\", \"HD6\", \"HBD1\", \"HBD2\", \"HBD3\", \"CD206\", \"DEC205\", \"CLEC6A\", \"BDCA2\", \"CLEC4E\", \"DCIR\", \"CLEC7A\", \"MICL\", \"CLEC2\", \"DNGR1\", \"CLEC12B\",\n",
    "                 \"DC-SIGN\", \"CLEC4K\", \"MGL\", \"CLEC5A\", \"RIGI\", \"MDA5\", \"LGP2\"]\n",
    "        if (x not in recept) or (x == \"HNP2\") or (x == \"DNGR1\"): \n",
    "            raise ValueError(\"The information for this receptor is not available.\")\n",
    "        break\n",
    "    except ValueError as error:\n",
    "        print(error)\n",
    "\n",
    "f = open(f\"{x}.txt\")\n",
    "info = sp.read(f)\n",
    "print(f\">{info.entry_name} | {info.organism}\")\n",
    "print(info.sequence)\n",
    "\n",
    "taxonomia = ''.join(f\"{m} | \" for m in info.organism_classification)\n",
    "print(f\"\\nTAXONOMY: {taxonomia[:-2]}\")\n",
    "print(f\"SEQUENCE LENGHT: {info.sequence_length}\")\n",
    "\n",
    "#print(info.comments)\n",
    "for member in info.comments:\n",
    "    sim = member.find(\"SIMILARITY\")\n",
    "    fun = member.find(\"FUNCTION\")\n",
    "    loc = member.find(\"SUBCELLULAR LOCATION\")\n",
    "    if fun != -1: \n",
    "        function = member.split(\"{\")\n",
    "        print(function[0])\n",
    "    if sim != -1: \n",
    "        similarity = member.split(\"{\")\n",
    "        print(similarity[0])\n",
    "    if loc != -1:\n",
    "        sub_location = member.split(\"{\")\n",
    "        print(sub_location[0])\n",
    "    if inter != -1:\n",
    "        interactions = member.split(\"\\t\")\n",
    "        print(interactions[0])\n",
    "\n",
    "keywords = ''.join(f\"{m} | \" for m in info.keywords)\n",
    "print(f\"KEYWORDS: {keywords}\")"
   ]
  },
  {
   "cell_type": "markdown",
   "id": "0331f3b4-5721-45d1-aada-88ac68af5015",
   "metadata": {},
   "source": [
    "# Mais Completo"
   ]
  },
  {
   "cell_type": "code",
   "execution_count": 16,
   "id": "3e911bec-f680-434f-94ed-98f65cc5a1d8",
   "metadata": {},
   "outputs": [
    {
     "name": "stdin",
     "output_type": "stream",
     "text": [
      "Which innate immune receptor are you looking for? TLR1\n"
     ]
    },
    {
     "name": "stdout",
     "output_type": "stream",
     "text": [
      "Entry Name\tEntry\tLength\tReviewed\tProtein names\n",
      "TLR1_HUMAN\tQ15399\t786\treviewed\tToll-like receptor 1 (Toll/interleukin-1 receptor-like protein) (TIL) (CD antigen CD281)\n",
      "TLR2_HUMAN\tO60603\t784\treviewed\tToll-like receptor 2 (Toll/interleukin-1 receptor-like protein 4) (CD antigen CD282)\n",
      "CD14_HUMAN\tP08571\t375\treviewed\tMonocyte differentiation antigen CD14 (Myeloid cell-specific leucine-rich glycoprotein) (CD antigen CD14) [Cleaved into: Monocyte differentiation antigen CD14, urinary form; Monocyte differentiation antigen CD14, membrane-bound form]\n",
      "TLR10_HUMAN\tQ9BXR5\t811\treviewed\tToll-like receptor 10 (CD antigen CD290)\n",
      "SCIMP_HUMAN\tQ6UWF3\t145\treviewed\tSLP adapter and CSK-interacting membrane protein (SLP65/SLP76, Csk-interacting membrane protein)\n",
      "CNPY3_HUMAN\tQ9BT09\t278\treviewed\tProtein canopy homolog 3 (CTG repeat protein 4a) (Expanded repeat-domain protein CAG/CTG 5) (Protein associated with TLR4) (Trinucleotide repeat-containing gene 5 protein)\n",
      "SFPA2_HUMAN\tQ8IWL1\t248\treviewed\tPulmonary surfactant-associated protein A2 (PSP-A) (PSPA) (SP-A) (SP-A2) (35 kDa pulmonary surfactant-associated protein) (Alveolar proteinosis protein) (Collectin-5)\n",
      "SFTPD_HUMAN\tP35247\t375\treviewed\tPulmonary surfactant-associated protein D (PSP-D) (SP-D) (Collectin-7) (Lung surfactant protein D)\n",
      "SFTA1_HUMAN\tQ8IWL2\t248\treviewed\tPulmonary surfactant-associated protein A1 (PSP-A) (PSPA) (SP-A) (SP-A1) (35 kDa pulmonary surfactant-associated protein) (Alveolar proteinosis protein) (Collectin-4)\n",
      "TLR6_HUMAN\tQ9Y2C9\t796\treviewed\tToll-like receptor 6 (CD antigen CD286)\n",
      "MMP9_HUMAN\tP14780\t707\treviewed\tMatrix metalloproteinase-9 (MMP-9) (EC 3.4.24.35) (92 kDa gelatinase) (92 kDa type IV collagenase) (Gelatinase B) (GELB) [Cleaved into: 67 kDa matrix metalloproteinase-9; 82 kDa matrix metalloproteinase-9]\n",
      "\n"
     ]
    }
   ],
   "source": [
    "import requests\n",
    "\n",
    "def get_url(url, **kwargs):\n",
    "    response = requests.get(url, **kwargs)\n",
    "    if not response.ok:\n",
    "        print(response.text)\n",
    "        response.raise_for_status()\n",
    "        sys.exit()\n",
    "    return response\n",
    "\n",
    "receptors = input(\"Which innate immune receptor are you looking for?\")\n",
    "\n",
    "website_api = \"https://rest.uniprot.org\"\n",
    "r = get_url(f\"{website_api}/uniprotkb/search?query={receptors} AND (taxonomy_id:9606)(reviewed:true)&fields=id,accession,length,reviewed,protein_name&format=tsv\")\n",
    "print(r.text)"
   ]
  },
  {
   "cell_type": "code",
   "execution_count": 11,
   "id": "480f3fdc-2cf6-4c91-8b0c-ce4b49997621",
   "metadata": {},
   "outputs": [
    {
     "name": "stdin",
     "output_type": "stream",
     "text": [
      "Which innate immune receptor are you looking for? (Please write the Entry Reference) Q15399\n"
     ]
    }
   ],
   "source": [
    "import requests\n",
    "\n",
    "uniprot_id = input(\"Which innate immune receptor are you looking for? (Please write the Entry Reference)\")\n",
    "\n",
    "url_txt = f\"https://www.uniprot.org/uniprot/{uniprot_id}.txt\"\n",
    "url_fasta = f\"https://www.uniprot.org/uniprot/{uniprot_id}.fasta\"\n",
    "\n",
    "response_txt = requests.get(url_txt)\n",
    "response_fasta = requests.get(url_fasta)\n",
    "\n",
    "with open(f\"{uniprot_id}.txt\", \"w\") as file:\n",
    "    file.write(response_txt.text)\n",
    "    \n",
    "with open(f\"{uniprot_id}.fasta\", \"w\") as file:\n",
    "    file.write(response_fasta.text)"
   ]
  },
  {
   "cell_type": "code",
   "execution_count": 9,
   "id": "000e380e-cd22-4ab7-a82d-f5a4cb34e87f",
   "metadata": {},
   "outputs": [
    {
     "name": "stdout",
     "output_type": "stream",
     "text": [
      ">TLR1_HUMAN | Homo sapiens (Human).\n",
      "MTSIFHFAIIFMLILQIRIQLSEESEFLVDRSKNGLIHVPKDLSQKTTILNISQNYISELWTSDILSLSKLRILIISHNRIQYLDISVFKFNQELEYLDLSHNKLVKISCHPTVNLKHLDLSFNAFDALPICKEFGNMSQLKFLGLSTTHLEKSSVLPIAHLNISKVLLVLGETYGEKEDPEGLQDFNTESLHIVFPTNKEFHFILDVSVKTVANLELSNIKCVLEDNKCSYFLSILAKLQTNPKLSNLTLNNIETTWNSFIRILQLVWHTTVWYFSISNVKLQGQLDFRDFDYSGTSLKALSIHQVVSDVFGFPQSYIYEIFSNMNIKNFTVSGTRMVHMLCPSKISPFLHLDFSNNLLTDTVFENCGHLTELETLILQMNQLKELSKIAEMTTQMKSLQQLDISQNSVSYDEKKGDCSWTKSLLSLNMSSNILTDTIFRCLPPRIKVLDLHSNKIKSIPKQVVKLEALQELNVAFNSLTDLPGCGSFSSLSVLIIDHNSVSHPSADFFQSCQKMRSIKAGDNPFQCTCELGEFVKNIDQVSSEVLEGWPDSYKCDYPESYRGTLLKDFHMSELSCNITLLIVTIVATMLVLAVTVTSLCSYLDLPWYLRMVCQWTQTRRRARNIPLEELQRNLQFHAFISYSGHDSFWVKNELLPNLEKEGMQICLHERNFVPGKSIVENIITCIEKSYKSIFVLSPNFVQSEWCHYELYFAHHNLFHEGSNSLILILLEPIPQYSIPSSYHKLKSLMARRTYLEWPKEKSKRGLFWANLRAAINIKLTEQAKK\n",
      "\n",
      "TAXONOMY: Eukaryota | Metazoa | Chordata | Craniata | Vertebrata | Euteleostomi | Mammalia | Eutheria | Euarchontoglires | Primates | Haplorrhini | Catarrhini | Hominidae | Homo \n",
      "SEQUENCE LENGHT: 786\n",
      "FUNCTION: Participates in the innate immune response to microbial agents. Specifically recognizes diacylated and triacylated lipopeptides. Cooperates with TLR2 to mediate the innate immune response to bacterial lipoproteins or lipopeptides (PubMed:21078852). Forms the activation cluster TLR2:TLR1:CD14 in response to triacylated lipopeptides, this cluster triggers signaling from the cell surface and subsequently is targeted to the Golgi in a lipid-raft dependent pathway (PubMed:16880211). Acts via MYD88 and TRAF6, leading to NF-kappa-B activation, cytokine secretion and the inflammatory response. \n",
      "SUBCELLULAR LOCATION: Cell membrane \n",
      "SIMILARITY: Belongs to the Toll-like receptor family. \n",
      "KEYWORDS: 3D-structure | Cell membrane | Cytoplasmic vesicle | Direct protein sequencing | Disulfide bond | Glycoprotein | Golgi apparatus | Immunity | Inflammatory response | Innate immunity | Leucine-rich repeat | Membrane | NAD | Receptor | Reference proteome | Repeat | Signal | Transmembrane | Transmembrane helix | \n"
     ]
    }
   ],
   "source": [
    "from Bio import ExPASy\n",
    "import Bio.SwissProt as sp\n",
    "\n",
    "f = open(f\"{uniprot_id}.txt\")\n",
    "info = sp.read(f)\n",
    "\n",
    "print(f\">>{info.entry_name} | {info.organism}\")\n",
    "print(info.sequence)\n",
    "\n",
    "taxonomia = ''.join(f\"{m} | \" for m in info.organism_classification)\n",
    "\n",
    "print(f\"\\nTAXONOMY: {taxonomia[:-2]}\")\n",
    "print(f\"SEQUENCE LENGHT: {info.sequence_length}\")\n",
    "\n",
    "#print(info.comments)\n",
    "for member in info.comments:\n",
    "    sim = member.find(\"SIMILARITY\")\n",
    "    fun = member.find(\"FUNCTION\")\n",
    "    loc = member.find(\"SUBCELLULAR LOCATION\")\n",
    "    if fun != -1: \n",
    "        function = member.split(\"{\")\n",
    "        print(function[0])\n",
    "    if sim != -1: \n",
    "        similarity = member.split(\"{\")\n",
    "        print(similarity[0])\n",
    "    if loc != -1:\n",
    "        sub_location = member.split(\"{\")\n",
    "        print(sub_location[0])\n",
    "    \n",
    "\n",
    "keywords = ''.join(f\"{m} | \" for m in info.keywords)\n",
    "print(f\"KEYWORDS: {keywords}\")"
   ]
  },
  {
   "cell_type": "markdown",
   "id": "cc19679c-ed07-42f5-8d65-9098db7bf811",
   "metadata": {},
   "source": [
    "## Acessing BioGrid"
   ]
  },
  {
   "cell_type": "code",
   "execution_count": 5,
   "id": "5fe1fe31-29fe-437b-8db5-a9b9e32d7ac0",
   "metadata": {},
   "outputs": [
    {
     "name": "stdout",
     "output_type": "stream",
     "text": [
      "Error: API request failed with status code 401\n"
     ]
    }
   ],
   "source": [
    "import requests\n",
    "\n",
    "# Set the UniProt ID for the protein of interest\n",
    "uniprot_id = \"Q15399\"\n",
    "\n",
    "# Set the URL for the Biogrid API\n",
    "biogrid_url = \"https://webservice.thebiogrid.org/interactions?searchNames=true&includeInteractors=true&taxId=9606&geneList={}&format=json\".format(uniprot_id)\n",
    "\n",
    "# Send a GET request to the Biogrid API\n",
    "response = requests.get(biogrid_url)\n",
    "\n",
    "# Check if the request was successful\n",
    "if response.status_code == 200:\n",
    "    # Parse the JSON response\n",
    "    data = response.json()\n",
    "    # Extract the interaction information\n",
    "    for interaction in data[\"data\"]:\n",
    "        interactor_a = interaction[\"Official Symbol Interactor A\"]\n",
    "        interactor_b = interaction[\"Official Symbol Interactor B\"]\n",
    "        print(\"{} interacts with {}\".format(interactor_a, interactor_b))\n",
    "else:\n",
    "    print(\"Error: API request failed with status code {}\".format(response.status_code))\n",
    "\n",
    "\n"
   ]
  },
  {
   "cell_type": "markdown",
   "id": "4f7a3f76-4d03-4941-a847-54d6282051bf",
   "metadata": {},
   "source": [
    "## Acessing IntAct"
   ]
  },
  {
   "cell_type": "code",
   "execution_count": null,
   "id": "7d052a0a-0fdc-4393-b201-2f942f33ba21",
   "metadata": {},
   "outputs": [],
   "source": []
  },
  {
   "cell_type": "markdown",
   "id": "218642f6-4074-4f54-9656-d03e010d07ba",
   "metadata": {},
   "source": [
    "## Phages search in Uniprot"
   ]
  },
  {
   "cell_type": "code",
   "execution_count": 52,
   "id": "14518a67-77e5-4601-b015-930fd7bd7356",
   "metadata": {},
   "outputs": [
    {
     "name": "stdout",
     "output_type": "stream",
     "text": [
      "Taxon Id\tScientific name\tVirus hosts\n",
      "2932878\tBacillus phage SPbeta\tBacillus pumilus, Bacillus subtilis\n",
      "2681611\tEscherichia phage lambda\tEscherichia coli\n",
      "10712\tEnterobacteria phage 434\tEscherichia coli\n",
      "10736\tBacillus phage phi3T\tBacillus subtilis\n",
      "10868\tEscherichia phage If1\tEscherichia coli\n",
      "12016\tEnterobacteria phage f2\tEscherichia coli\n",
      "12017\tEnterobacteria phage fr\tEscherichia coli\n",
      "31533\tEnterobacteria phage RB3\tEscherichia coli\n",
      "66711\tEscherichia phage AR1\tEscherichia coli O157:H7\n",
      "155148\tEnterobacteria phage HK620\tEscherichia coli\n",
      "2681603\tEscherichia phage Mu\tEnterobacteriaceae\n",
      "2681617\tEnterobacteria phage HK97\tEscherichia coli\n",
      "2886926\tEscherichia phage P1\tEnterobacteriaceae\n",
      "2905681\tEscherichia phage P2\tEnterobacteriaceae\n",
      "2907955\tEnterobacteria phage SP6\tSalmonella typhimurium\n",
      "2679905\tEscherichia phage Phieco32\tEscherichia coli\n",
      "10713\tEnterobacteria phage phi80\tEscherichia coli\n",
      "10680\tEnterobacteria phage P4\tEscherichia coli\n",
      "12353\tEscherichia phage RB69\tEscherichia coli\n",
      "2847073\tEnterobacteria phage fd\tEscherichia coli\n",
      "10843\tEscherichia phage G4\tEscherichia coli\n",
      "12022\tEscherichia phage MS2\tEscherichia coli\n",
      "2884424\tBacillus phage phi29\tBacillus subtilis\n",
      "10674\tEnterobacteria phage K3\tEscherichia coli\n",
      "10682\tEnterobacteria phage P7\tEscherichia coli\n",
      "10684\tBacillus phage PBS2\tBacillus subtilis\n",
      "10691\tEnterobacteria phage Ox2\tEscherichia coli\n",
      "10692\tEnterobacteria phage RB18\tEscherichia coli\n",
      "10693\tEnterobacteria phage RB51\tEscherichia coli\n",
      "10705\tEnterobacteria phage 82\tEscherichia coli\n",
      "10711\tEnterobacteria phage P21\tEscherichia coli\n",
      "10724\tBacillus phage SPP1\tBacillus subtilis\n",
      "10725\tBacillus phage SPR\tBacillus subtilis\n",
      "10757\tBacillus phage PZA\tBacillus subtilis\n",
      "10759\tEnterobacteria phage T3\tEscherichia coli\n",
      "10766\tEnterobacteria phage K11\tKlebsiella\n",
      "10844\tEnterobacteria phage S13\tSalmonella\n",
      "10872\tPseudomonas phage Pf3\tPseudomonas aeruginosa\n",
      "12018\tEnterobacteria phage GA\tEscherichia coli\n",
      "12019\tEnterobacteria phage JP34\tEscherichia coli\n",
      "12023\tPseudomonas phage PP7\tPseudomonas aeruginosa\n",
      "12027\tEnterobacteria phage SP\tEscherichia coli\n",
      "36338\tEnterobacteria phage RB70\tEscherichia coli\n",
      "36340\tEnterobacteria phage RB15\tEscherichia coli\n",
      "37362\tEnterobacteria phage LZ3\tEscherichia coli\n",
      "37363\tEnterobacteria phage LZ5\tEscherichia coli\n",
      "40521\tListeria phage A118\tListeria monocytogenes\n",
      "42175\tEnterobacteria phage LZ1\tEscherichia coli\n",
      "42176\tEnterobacteria phage LZ4\tEscherichia coli\n",
      "69608\tEnterobacteria phage RB10\tEscherichia coli\n",
      "69609\tEnterobacteria phage RB27\tEscherichia coli\n",
      "69610\tEnterobacteria phage RB6\tEscherichia coli\n",
      "69611\tEnterobacteria phage RB8\tEscherichia coli\n",
      "69612\tEnterobacteria phage RB9\tEscherichia coli\n",
      "69613\tEnterobacteria phage SV76\tEnterobacteriaceae\n",
      "83127\tBacteriophage PS34\tSalmonella typhimurium\n",
      "83128\tBacteriophage PS119\tSalmonella typhimurium\n",
      "145579\tBdellovibrio phage phiMH2K\tBdellovibrio bacteriovorus\n",
      "272473\tBacteriophage TS2126\tThermus scotoductus\n",
      "331976\tBacillus phage M2\tBacillus\n",
      "356629\tXanthomonas phage Xf\tXanthomonas campestris pv. oryzae\n",
      "2907964\tPseudomonas phage D3112\tPseudomonas aeruginosa\n",
      "10717\tBacillus phage phi105\tBacillus subtilis\n",
      "10845\tEscherichia phage St-1\tEscherichia coli (strain K12)\n",
      "10867\tSalmonella phage IKe\tEscherichia coli\n",
      "12026\tEnterobacteria phage R17\tEscherichia coli\n",
      "344021\tEscherichia phage K1F\tEscherichia coli\n",
      "1289570\tHaemophilus phage HP1 (strain HP1c1)\tHaemophilus influenzae\n",
      "2060721\tEnterobacteria phage T2\tEscherichia coli\n",
      "2886925\tEnterobacteria phage N4\tEscherichia coli\n",
      "2914006\tThermus virus P23-45\tThermus thermophilus\n",
      "10715\tStaphylococcus phage 42D\tStaphylococcus aureus\n",
      "1604876\tEscherichia phage N15\tEscherichia coli\n",
      "10760\tEscherichia phage T7\tEscherichia coli\n",
      "28365\tXanthomonas phage phiLf\tXanthomonas campestris pv. campestris\n",
      "10730\tEscherichia phage 933W\tEscherichia coli O157:H7\n",
      "215158\tSalmonella phage epsilon15\tSalmonella anatum\n",
      "10704\tRhizobium phage 16-3\tRhizobium meliloti\n",
      "10755\tBacillus phage phi15\tBacillus subtilis\n",
      "10866\tEnterobacteria phage ZJ/2\tEscherichia coli\n",
      "12024\tPseudomonas phage PRR1\tPseudomonas\n",
      "69607\tEnterobacteria phage PST\tYersinia pseudotuberculosis\n",
      "75320\tVibrio phage KVP40 (isolate Vibrio parahaemolyticus/Japan/Matsuzaki/1991)\tVibrio parahaemolyticus\n",
      "1208236\tHelicobacter pylori bacteriophage KHP30\tHelicobacter pylori (strain F32), Helicobacter pylori (strain F16), Helicobacter pylori (strain F30), Helicobacter pylori (strain 35A), Helicobacter pylori (strain F57)\n",
      "2492962\tEscherichia phage T1\tEscherichia coli\n",
      "2679898\tBacillus phage GA-1\tBacillus subtilis\n",
      "2681624\tLactococcus phage c2\tLactococcus\n",
      "10723\tBacillus phage SP02\tBacillus subtilis\n",
      "10747\tStreptococcus phage Cp-1\tStreptococcus pneumoniae\n",
      "69932\tEnterobacteria phage H19B\tEscherichia coli\n",
      "185959\tSpiroplasma virus SpV1-C74\tSpiroplasma melliferum\n",
      "665033\tEscherichia phage D108\tEscherichia coli\n",
      "2928686\tPseudomonas phage phi6\tPseudomonas savastanoi pv. phaseolicola\n",
      "12336\tClostridium botulinum C phage\tClostridium botulinum C\n",
      "2789016\tQbeta virus (strain MX1)\tEscherichia coli\n",
      "10748\tStreptococcus phage Cp-7\tStreptococcus pneumoniae\n",
      "10749\tStreptococcus phage Cp-9\tStreptococcus pneumoniae\n",
      "10849\tEscherichia phage alpha3\tEscherichia coli\n",
      "12392\tLactococcus phage mv4\tLactobacillus delbrueckii\n",
      "10676\tEnterobacteria phage M1\tSelenomonas ruminantium\n",
      "10738\tEnterobacteria phage PA-2\tEscherichia coli\n",
      "10863\tEnterobacteria phage f1\tEscherichia coli\n",
      "10874\tShigella phage SfX\tShigella flexneri\n",
      "12371\tBacteriophage H30\tEscherichia coli\n",
      "332942\tEnterobacteria phage ZR\tEscherichia coli\n",
      "665032\tDelftia phage PhiW-14\tDelftia acidovorans\n",
      "2695836\tEscherichia phage T5\tEscherichia coli\n",
      "1283338\tStaphylococcus phage Twort (strain DSM 17442 / HER 48)\tTwortvirus twort\n",
      "10746\tLactococcus phage phivML3\tLactococcus lactis\n",
      "29252\tEscherichia phage 186\tEscherichia coli\n",
      "10658\tEnterobacteria phage PRD1\tEscherichia coli, Pseudomonas fluorescens, Pseudomonas putida, Salmonella typhimurium, Proteus mirabilis, Vibrio cholerae, Acinetobacter calcoaceticus, Pseudomonas aeruginosa\n",
      "10735\tBacillus phage rho11s\tBacillus subtilis\n",
      "12387\tLactococcus phage F4-1\tLactococcus lactis\n",
      "35344\tStreptococcus pyogenes phage T12\tStreptococcus pyogenes\n",
      "40522\tListeria phage A500\tListeria monocytogenes\n",
      "69605\tEnterobacteria phage FSalpha\tEscherichia coli\n",
      "204270\tPseudomonas phage phiKMV\tPseudomonas aeruginosa\n",
      "1010614\tStaphylococcus phage S24-1\tStaphylococcus aureus\n",
      "1217068\tEnterobacteria phage phiX174 (Isolate Sanger)\tEscherichia coli C\n",
      "1283336\tSalmonella phage Felix O1 (isolate Felix O1-VT1)\tSalmonella\n",
      "2905728\tPseudoalteromonas phage PM2\tPseudoalteromonas espejiana\n",
      "2928746\tSpiroplasma virus 4\tSpiroplasma melliferum\n",
      "1977402\tEnterobacteria phage M13\tEscherichia coli\n",
      "2682836\tAcyrthosiphon pisum secondary endosymbiont phage 1\tEscherichia coli\n",
      "2884427\tBacillus phage SP01\tBacillus subtilis\n",
      "10854\tSpiroplasma virus SpV1-R8A2 B\tSpiroplasma citri\n",
      "12348\tLactococcus phage LL-H\tLactobacillus delbrueckii\n",
      "12360\tStaphylococcus phage phi11\tStaphylococcus aureus\n",
      "10689\tVibrio phage CP-T1\tVibrio cholerae\n",
      "10750\tEnterobacteria phage LP7\tSalmonella\n",
      "47488\tEscherichia phage SV14\tEnterobacteriaceae\n",
      "1283335\tBurkholderia phage BcepMu (isolate -/United States/Summer/2002)\tBurkholderia cenocepacia (strain ATCC BAA-245 / DSM 16553 / LMG 16656 / NCTC 13227 / J2315 / CF5610)\n",
      "1283341\tClostridium phage phiCD119 (strain Clostridium difficile/United States/Govind/2006)\tClostridioides difficile\n",
      "33769\tLactococcus phage mv1\tLactobacillus delbrueckii\n",
      "10666\tEnterobacteria phage T6\tEscherichia coli\n",
      "97081\tEnterobacteria phage VT2-Sa\tEscherichia coli O157:H7\n",
      "382359\tSynechococcus phage syn9\tSynechococcus\n",
      "442493\tEnterococcus phage phiEF24C\tEnterococcus faecalis\n",
      "1087482\tSalmonella phage S16\tSalmonella enterica\n",
      "2011081\tPseudomonas phage Pf1\tPseudomonas aeruginosa\n",
      "10869\tEnterobacteria phage I2-2\tEscherichia coli\n",
      "59241\tPneumococcus phage Dp-1\tStreptococcus pneumoniae\n",
      "173443\tSalmonella phage ST64T\tSalmonella typhimurium\n",
      "1283337\tHalomonas phage phiHAP-1 (isolate -/Gulf of Mexico/-/2001)\tHalomonas aquamarina\n",
      "2932880\tPseudomonas phage D3\tPseudomonas aeruginosa\n",
      "169684\tHalobacterium phage phiH\tHalobacterium salinarum\n",
      "2003327\tChlamydia phage 1\tChlamydia psittaci\n",
      "46014\tAcholeplasma phage L2\tMycoplasma\n",
      "55884\tShigella phage SfV\tShigella flexneri\n",
      "10848\tEnterobacteria phage phiK\tEscherichia coli\n",
      "238854\tSynechococcus phage S-PM2\tSynechococcus\n",
      "254252\tLactococcus phage p2\tLactococcus lactis\n",
      "10665\tEnterobacteria phage T4\tEscherichia coli\n",
      "10707\tEscherichia phage Bf23\tEscherichia coli, Salmonella typhimurium\n",
      "10719\tStreptomyces phage phiC31\tStreptomyces coelicolor\n",
      "10727\tStaphylococcus phage L54a\tStaphylococcus\n",
      "10737\tEnterobacteria phage phi21\tBacillus subtilis\n",
      "10742\tEscherichia phage HK022\tEscherichia coli\n",
      "10753\tBacillus phage Nf\tBacillus subtilis\n",
      "10754\tSalmonella phage P22\tSalmonella typhimurium\n",
      "10761\tShigella phage Sf6\tShigella flexneri\n",
      "10773\tBacillus phage SF6\tBacillus subtilis\n",
      "10778\tBacillus phage B103\tBacillus subtilis\n",
      "12388\tMycobacterium phage FRAT1\tMycobacterium\n",
      "28369\tMycobacterium phage D29\tMycobacterium\n",
      "31757\tMycobacterium phage L5\tMycobacterium\n",
      "36451\tBacillus phage rho15\tBacillus subtilis\n",
      "40523\tListeria phage A511\tListeria monocytogenes\n",
      "43685\tLactococcus phage r1t\tLactococcus lactis subsp. cremoris\n",
      "45406\tEnterobacteria phage RB32\tEscherichia coli\n",
      "53000\tHaemophilus phage S2\tEnterococcus\n",
      "66284\tShigella phage SfII\tShigella flexneri\n",
      "83129\tLactococcus phage P008\tLactococcus lactis subsp. lactis (strain IL1403)\n",
      "85154\tStreptococcus phage O1205\tStreptococcus thermophilus\n",
      "88870\tMycobacterium phage TM4\tMycobacterium\n",
      "138946\tShigella phage 7888\tShigella sonnei\n",
      "144736\tThermus phage PH75\tThermus thermophilus\n",
      "148943\tRhodothermus phage RM378\tRhodothermus marinus\n",
      "186153\tStaphylococcus phage phi13\tPseudomonas\n",
      "204086\tStaphylococcus phage 44AHJD\tStaphylococcus aureus\n",
      "205870\tMycobacterium phage Bxz2\tMycobacterium\n",
      "205875\tMycobacterium phage Corndog\tMycolicibacterium smegmatis (strain ATCC 700084 / mc(2)155)\n",
      "205877\tMycobacterium phage Bxz1\tMycolicibacterium smegmatis, Mycolicibacterium vaccae\n",
      "209152\tStreptococcus phage B30\tStreptococcus agalactiae\n",
      "221915\tStaphylococcus phage K\tStaphylococcus aureus\n",
      "236750\tBacillus phage Bam35c\tBacillus thuringiensis\n",
      "329853\tEscherichia phage BZ13\tEscherichia coli\n",
      "344022\tEscherichia phage K1E\tEscherichia coli\n",
      "379501\tStaphylococcus phage phiMR11\tStaphylococcus aureus\n",
      "487152\tStaphylococcus phage phiMR25\tStaphylococcus aureus\n",
      "504346\tPseudomonas phage PAJU2\tPseudomonas aeruginosa\n",
      "552527\tSerratia phage KSP20\tSerratia marcescens\n",
      "552528\tSerratia phage KSP90\tSerratia marcescens\n",
      "552529\tSerratia phage KSP100\tSerratia marcescens\n",
      "582345\tPseudomonas phage KPP10\tPseudomonas aeruginosa\n",
      "645664\tShigella phage SP18\tShigella sonnei\n",
      "762660\tAcinetobacter phage Ac42\tAcinetobacter sp.\n",
      "941058\tBacillus phage SP10\tBacillus subtilis\n",
      "998086\tPseudomonas phage PhiPA3\tPseudomonas aeruginosa\n",
      "1010615\tStaphylococcus phage S13'\tStaphylococcus aureus\n",
      "1076759\tVibrio phage phiVC8\tVibrio cholerae\n",
      "1141519\tEscherichia phage phiKT\tEscherichia coli\n",
      "1175657\tPseudomonas phage PaMx11\tPseudomonas aeruginosa\n",
      "1406341\tThermus phage G20c\tThermus thermophilus\n",
      "1462608\tPseudomonas phage KPP25\tPseudomonas aeruginosa\n",
      "1678082\tPseudomonas phage KPP21\tPseudomonas aeruginosa\n",
      "1772250\tPseudomonas phage KPP22\tPseudomonas aeruginosa\n",
      "1987993\tSalmonella phage ViI\tSalmonella typhi\n",
      "2045370\tBacillus phage SBSphiJ\tBacillus subtilis\n",
      "2081904\tSalmonella phage PMBT28\tSalmonella enterica\n",
      "2283013\tBacillus phage BSP38\tBacillus subtilis\n",
      "2301731\tBacteroides phage crAss001\tBacteroides intestinalis\n",
      "2681599\tEscherichia phage RB16\tEscherichia coli\n",
      "2776772\tErwinia phage FBB1\tErwinia tracheiphila\n",
      "2869562\tBacillus phage 010DV004\tBacillus subtilis\n",
      "2905675\tLactococcus phage SK1\tLactococcus lactis\n",
      "2905945\tPseudomonas phage phiKZ\tPseudomonas aeruginosa\n",
      "2907835\tMycobacterium phage Omega\tMycolicibacterium smegmatis\n",
      "2911432\tPseudomonas phage M6\tPseudomonas aeruginosa\n",
      "2930344\tBacillus phage SBSphiJ7\t\n",
      "12366\tStreptococcus pyogenes phage H4489A\tStreptococcus pyogenes\n",
      "29342\tClostridium botulinum D phage\tClostridium botulinum\n",
      "65015\tSynechococcus phage S-WHM1\tSynechococcus\n",
      "86065\tStreptococcus pyogenes phage H10403\tStreptococcus pyogenes\n",
      "198110\tPseudomonas phage 201phi2-1\tPseudomonas chlororaphis\n",
      "264653\tSynechococcus phage S-RSM2\tSynechococcus\n",
      "268746\tProchlorococcus phage P-SSM2\tProchlorococcus\n",
      "462299\tEnterobacteria phage VT1-Sakai\t\n",
      "1041526\tStaphylococcus phage S25-3\tStaphylococcus aureus\n",
      "1041527\tStaphylococcus phage S25-4\tStaphylococcus aureus\n",
      "1206558\tYersinia phage phiR1-RT\tYersinia enterocolitica\n",
      "2885909\tBordetella phage BPP-1\tBordetella bronchiseptica\n",
      "12375\tLactococcus phage (isolate 7-9)\tLactococcus\n",
      "10728\tStreptococcus pneumoniae phage HB-3\tStreptococcus pneumoniae\n",
      "1933063\tBacillus phage vB_BsuM-Goe3\tBacillus subtilis\n",
      "2060946\tAcinetobacter phage SH-Ab 15497\tAcinetobacter baumannii\n",
      "2502409\tEscherichia phage vB_EcoM_Goslar\tEscherichia coli\n",
      "2593639\tBacillus phage vB_BveM-Goe7\tBacillus velezensis\n",
      "\n"
     ]
    }
   ],
   "source": [
    "import requests\n",
    "\n",
    "def get_url(url, **kwargs):\n",
    "    response = requests.get(url, **kwargs)\n",
    "    if not response.ok:\n",
    "        print(response.text)\n",
    "        response.raise_for_status()\n",
    "        sys.exit()\n",
    "    return response\n",
    "\n",
    "website_api = \"https://rest.uniprot.org\"\n",
    "r = get_url(f\"{website_api}/taxonomy/search?fields=id,scientific_name,hosts&format=tsv&query=phage AND (taxonomies_with:2_reviewed)&size=500\")\n",
    "print(r.text)"
   ]
  },
  {
   "cell_type": "markdown",
   "id": "99552b17-ec27-46ad-9976-b5f78d05b1b0",
   "metadata": {},
   "source": [
    "## Acessing Uniprot entries using taxonomy ID"
   ]
  },
  {
   "cell_type": "code",
   "execution_count": 55,
   "id": "8aea7c4e-dfdc-4474-8d90-ff3f82e71839",
   "metadata": {},
   "outputs": [
    {
     "name": "stdin",
     "output_type": "stream",
     "text": [
      "Which organism are you looking for? Please write its taxonomy id 379501\n"
     ]
    },
    {
     "name": "stdout",
     "output_type": "stream",
     "text": [
      "Entry Name\tEntry\tLength\tReviewed\tProtein names\n",
      "CAPSD_BPMR1\tA9CRA7\t274\treviewed\tMajor capsid protein (Gene product 44) (gp44) (Major head protein)\n",
      "TAIL_BPMR1\tA9CRB8\t186\treviewed\tPutative tail protein (Putative uncharacterized protein orf50)\n",
      "\n"
     ]
    }
   ],
   "source": [
    "import requests\n",
    "\n",
    "def get_url(url, **kwargs):\n",
    "    response = requests.get(url, **kwargs)\n",
    "    if not response.ok:\n",
    "        print(response.text)\n",
    "        response.raise_for_status()\n",
    "        sys.exit()\n",
    "    return response\n",
    "\n",
    "taxonomy_id = input(\"Which organism are you looking for? Please write its taxonomy id\")\n",
    "\n",
    "website_api = \"https://rest.uniprot.org\"\n",
    "r = get_url(f\"{website_api}/uniprotkb/search?query=(taxonomy_id:{taxonomy_id}) AND (reviewed:true)&fields=id,accession,length,reviewed,protein_name&format=tsv&size=500\")\n",
    "print(r.text)"
   ]
  },
  {
   "cell_type": "markdown",
   "id": "35f816e5-3c0c-4ac6-8fbd-dc431fc62b9d",
   "metadata": {},
   "source": [
    "File with all protein entries"
   ]
  },
  {
   "cell_type": "code",
   "execution_count": 58,
   "id": "95cb20c4-89d2-42d9-9fb3-0eee5e97caa2",
   "metadata": {},
   "outputs": [],
   "source": [
    "with open(\"ids.txt\", \"w\") as f:\n",
    "    # Iterate through all pages of results\n",
    "    next_url = url\n",
    "    while next_url:\n",
    "        # Get the next page of results\n",
    "        response = get_url(next_url)\n",
    "        lines = response.text.strip().split(\"\\n\")[1:]\n",
    "        ids = [line.split(\"\\t\")[0] for line in lines]\n",
    "        \n",
    "        # Write the IDs to the file\n",
    "        f.write(\"\\n\".join(ids) + \"\\n\")\n",
    "\n",
    "        # Check if there are more pages of results\n",
    "        next_url = response.headers.get(\"link\")\n",
    "        if next_url and \"rel=\\\"next\\\"\" in next_url:\n",
    "            next_url = next_url[next_url.index(\"<\")+1:next_url.index(\">\")]"
   ]
  },
  {
   "cell_type": "code",
   "execution_count": null,
   "id": "cff73601-2b5b-40f4-a35a-9035d74a6507",
   "metadata": {},
   "outputs": [],
   "source": []
  }
 ],
 "metadata": {
  "kernelspec": {
   "display_name": "Python 3 (ipykernel)",
   "language": "python",
   "name": "python3"
  },
  "language_info": {
   "codemirror_mode": {
    "name": "ipython",
    "version": 3
   },
   "file_extension": ".py",
   "mimetype": "text/x-python",
   "name": "python",
   "nbconvert_exporter": "python",
   "pygments_lexer": "ipython3",
   "version": "3.9.12"
  }
 },
 "nbformat": 4,
 "nbformat_minor": 5
}
